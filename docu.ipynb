{
 "cells": [
  {
   "cell_type": "raw",
   "id": "1e00c4da-1ec9-4402-a28b-6ad4b241b3a8",
   "metadata": {},
   "source": [
    "---\n",
    "title: \"Software visualizador interactivo PySalado v1.0\"\n",
    "author: Emiliano López\n",
    "format: \n",
    "  html:\n",
    "    code-fold: false\n",
    "jupyter: python3\n",
    "---"
   ]
  },
  {
   "cell_type": "markdown",
   "id": "20050c52-3273-4005-b615-882de2d1ad43",
   "metadata": {},
   "source": [
    "## Introducción\n",
    "\n",
    "El software `PySalado versión 1.0` es un visualizador que permite observar las alturas hidrométricas (h) registradas por ciertas estaciones del Sistema de Alerta Hidrológico del Río Salado y pronosticar su altura para los sitios de las estaciones de la Ruta Provincial 70 (RP70, Recreo) y la Ruta Provincial 62 (RP62, Emilia). El pronóstico de la RP70 es de hasta 3 días y el de la RP62 de hasta 2 días. El sistema desarrollado permite analizar interactivamente la fluctuación temporal, los pronósticos y a su vez observar los últimos valores de cada estación ubicada sobre un mapa satelital. "
   ]
  },
  {
   "cell_type": "markdown",
   "id": "8776c2d1-722b-4e14-8b78-4b3f50f45bd4",
   "metadata": {},
   "source": [
    "## Instalación y requerimientos\n",
    "Para instalar el programa el único requerimiento es ejecutar el instalador `Instalador_PySalado_v100.exe` en plataformas Windows y avanzar siguiendo los pasos hasta concluir el proceso. \n",
    "\n",
    "## Modo de uso\n",
    "\n",
    "### Inicio\n",
    "Una vez instalado se debe ejecutar el programa `PySalado` que aparece listado en el menú de inicio tal como se observa en la @fig-ini-win. Al ejecutar `PySalado` se abrirá el navegador web configurado por defecto en el sistema operativo con el visualizador PySalado en pantalla. En la @fig-ini se muestra la pantalla inicial, donde se debe subir el archivo con los datos de las alturas de las estaciones hidrométricas (click sobre el botón `Browse files`). \n",
    "\n",
    "![PySalado en el menú de inicio](img/img_ini-win.png){#fig-ini-win}\n",
    "\n",
    "![Primer pantalla de PySalado](img/img0.png){#fig-ini}\n",
    "\n",
    "\n"
   ]
  },
  {
   "cell_type": "markdown",
   "id": "7825752e",
   "metadata": {},
   "source": [
    "\n",
    "### Archivos de entrada de PySalado\n",
    "\n",
    "PySalado utiliza dos archivos `.csv` (comma separated values) como insumo (ver @fig-archivos): \n",
    "- El archivo principal, cargado por el usuario con las alturas hidrométricas (h) de cada estación. \n",
    "- Un archivo con información detallada de cada estación (`meta_estaciones_sah.csv`), que se encuentra cargado en el sistema por defecto.  \n",
    "\n",
    "```{mermaid}\n",
    "%%| label: fig-archivos\n",
    "%%| fig-cap: Archivos utilizados por PySalado v1.0.\n",
    "flowchart LR\n",
    "  A[altura_estaciones.csv] --> C(visualizador)\n",
    "  B[meta_estaciones_sah.csv] --> C(visualizador)\n",
    "  C(visualizador) --> D[<img src='img/img1.png' width='340' height='240' />]\n",
    "  \n",
    "```\n",
    "\n",
    "El usuario trabajará con el archivo de las alturas de estaciones, donde se cargarán los datos a medida que se recepcionan. Este archivo deberá estar actualizado por el personal que utilice este modelo de manera permanente para poder realizar los pronósticos.  Respecto al archivo con información de las estaciones se sugiere no modificarlo en forma periódica ya que es un archivo interno del sistema por tanto tampoco debe cambiarse su nombre (`meta_estaciones_sah.csv`). A continuación se detalla el formato de cada archivo.\n"
   ]
  },
  {
   "cell_type": "markdown",
   "id": "f6bb05cd",
   "metadata": {},
   "source": [
    "#### Archivo de alturas hidrométricas\n",
    "\n",
    "El principal insumo es el archivo `.csv` en el que se cargan las alturas hdrimétricas (h) de las estaciones de medición. La estructura del archivo debe ser la siguiente:\n",
    "\n",
    "- Coma (`,`) como separador de decimales\n",
    "- Punto y coma (`;`) como separador de columnas\n",
    "- El nombre de las columnas debe ser el siguiente:\n",
    "  - `Fecha`: fecha en formato dd/mm/aaaa\n",
    "  - `RP39`: altura hidrométrica (h) de la Estación RP 39\n",
    "  - `RP02`: altura hidrométrica (h) de la Estación RP 02\n",
    "  - `RP62`: altura hidrométrica (h) de la Estación RP 62\n",
    "  - `RP04`: altura hidrométrica (h) de la Estación RP 04\n",
    "  - `RP70`: altura hidrométrica (h) de la Estación RP 70\n",
    "  - `RN11`: altura hidrométrica (h) de la Estación RN 11\n",
    "  - `PTOSFE`: altura hidrométrica (h) de la Estación del Puerto Santa Fe\n",
    "  - `RP262`:  altura hidrométrica (h) de la Estación RP 262\n",
    "  - `RP50S`:  altura hidrométrica (h) de la Estación RP 50s\n",
    "\n",
    "En la @fig-archivo-csv se muestra un ejemplo de alturas cargadas para cuatro fechas.\n",
    "\n",
    "![Formato del archivo de datos `.csv`](img/archivo_csv_de_datos.png){#fig-archivo-csv}\n",
    "\n",
    "La forma más simple de crear este archivo es mediante una planilla de cálculo y una vez finalizado el ingreso de datos, exportarlo a `.csv` usando el caracter `punto y coma` (`;`) como separador de columnas. Otra alternativa es utilizar un editor de texto plano (por ejemplo el Bloc de notas), separar cada columna usando un `punto y coma`, y utilizar `coma` como separador decimal tal como se observa en @fig-archivo-plano-csv.\n",
    "\n",
    "![Archivo de datos `.csv` visto con el Bloc de notas](img/csv_plano_separadores.png){#fig-archivo-plano-csv}"
   ]
  },
  {
   "cell_type": "markdown",
   "id": "63b063bb",
   "metadata": {},
   "source": [
    "#### Archivo de información de las estaciones\n",
    "\n",
    "Este archivo contiene las coordenadas en latitud y longitud de cada estación. Es importante destacar que su manipulación debe ser restringida ya que de eso dependerá la ubicación de las estaciones en el mapa satelital.\n",
    "\n",
    "Su ubicación será en la ruta que el usuario seleccionó durante la instalación, tomando un caso ejemplo de un usuario `emi` y dejando por defecto las opciones durante la instalación el archivo `meta_estaciones_sah.csv` se almacena en: \n",
    "- `C:\\Users\\emi\\AppData\\Local\\Programs\\Pysalado\\datos` \n",
    "\n",
    "Al igual que en el caso previo se utiliza el caracter punto y coma (;) como separador de columnas y la coma (,) como separador de decimales. En la @fig-archi-metaestaciones se muestra el contenido del archivo:\n",
    "\n",
    "![Zoom pronóstico RP70](img/metadata_estaciones.png){#fig-archi-metaestaciones}\n",
    "\n",
    "La información contanida en este archivo de metadatos de las estaciones se utiliza para vincular con el de datos de alturas hidrométricas. Por ese motivo el identificador de cada columna no debe ser modificado. Sí es posible cambiar el contenido de la columna descripción."
   ]
  },
  {
   "cell_type": "markdown",
   "id": "faac4998",
   "metadata": {},
   "source": [
    "### Secciones de PySalado v1.0\n",
    "\n",
    "Una vez cargado el archivo de alturas hidrométricas (h) se mostrará una pantalla como se observa en la @fig-paneles\n",
    "\n",
    "\n",
    "![Visualización de series, pronósticos y mapas](img/img_paneles.png){#fig-paneles}\n",
    "\n",
    "- En el *panel superior* (destacado con azul en la figura) se muestran la sección para cargar el archivo, un menú para seleccionar la cantidad de días a mostrar y dos subpaneles deplegables que muestran las valores pronosticados.\n",
    "- En el *panel central* (verde en la figura), se muestran a la izquierda la gráficas interactivas de las series temporales y de los pronósticos para RP70 y RP62. Sobre la derecha un mapa satelital con las estaciones geolocalizadas.\n",
    "- En el *panel inferior* (rojo en la figura) dos subpaneles desplegables con la información cargada en el archivo de datos y los metadatos de cada estación, esto es: Rio,  Ruta, Nombre, Descripción, Codigo; longitud, latitud, fecha del último dato recibido y último dato recibido.\n",
    "\n",
    "### Alturas hidrométricas pronosticadas\n",
    "\n",
    "Al hacer click sobre los paneles **Valores Pronosticados RP70** y/o **Valores Pronosticados RP70** se mostrarán dos tablas con los pronósticos para la RP70 y RP62, de hasta tres y dos días respectivamente. En estas tablas se muestran:\n",
    "\n",
    "- Valores de altura hidrométrica pronosticada (h)\n",
    "- Valores con Nivel IGN H (H = h + cota cero escala)\n",
    "- El error (raíz del error cuadrático medio, RMSE) del modelo para ese día\n",
    "- Rango de variación de H +/- RMSE\n",
    "\n",
    "En la @fig-tablas-pronosticos se observan las tablas mencionadas.\n",
    "\n",
    "![Tablas con valores pronosticados](img/img1a.png){#fig-tablas-pronosticos}\n",
    "\n",
    "**Es importante destacar que el sistema calcula los pronósticos siempre y cuando tenga los datos necesarios para aplicar el modelo. En caso contrario se observarán valores NaN (Not a Number) en estas tablas y por tanto no habrá gráficos de pronósticos**. \n",
    "\n",
    "### Gráficos interactivos\n",
    "\n",
    "Tanto el gráfico que visualiza las series temporales y pronósticos como el mapa satelital de las estaciones son interactivos. El usuario puede hacer zoom para acercar/alejar, seleccionar y exportar la gráfica en un archivo imagen. \n",
    "\n",
    "En la gráfica de las series temporales y pronósticos, es posible realizar las siguientes acciones que se muestran en la @fig-curvas-interactivas:\n",
    "\n",
    "- Activar o desactivar cada serie haciendo click sobre su etiqueta de referencia.\n",
    "- Editar el rango de los ejes desplazándolos\n",
    "- Usar la caja de herramientas para exportar la figura a imagen, hacer zoom, seleccionar una zona específica \n",
    "\n",
    "![Interactividad sobre series temporales y pronósticos](img/curvas_interactivas.png){#fig-curvas-interactivas}\n",
    "\n",
    "Las trazas de los pronósticos se grafican con líneas punteadas y a su vez se muestra una franja con el intervalo del error (+/- RMSE). En la @fig-prono-intervalo-rmse-r70 y @fig-prono-intervalo-rmse-r62 se muestra solamente activadas las estaciones de interés, con zoom para las series y pronósticos de la RP70 y RP62 respectivamente. \n",
    "\n",
    "![Zoom pronóstico RP70](img/img3.png){#fig-prono-intervalo-rmse-r70}\n",
    "\n",
    "![Zoom pronóstico RP62](img/img5.png){#fig-prono-intervalo-rmse-r62}\n",
    "\n",
    "En la sección derecha, la visualización del **mapa satelital** permite ubicar con facilidad las estaciones en la cuenca y observar su información descriptiva. Es posible hacer zoom sobre el mapa, y posicionarse sobre cada estación para corroborar los últimos datos recibidos. Esta última característica está solamente disponible para los datos de las estaciones cargadas en el archivo da alguras hidrométricas. En la @fig-mapa-info-estacion se muestra su funcionamiento.\n",
    "\n",
    "![Zoom de mapa satelital con información de una de las estaciones](img/img-sat.png){#fig-mapa-info-estacion}  \n"
   ]
  },
  {
   "cell_type": "markdown",
   "id": "952e735b",
   "metadata": {},
   "source": []
  },
  {
   "cell_type": "markdown",
   "id": "3d8bfd09",
   "metadata": {},
   "source": []
  },
  {
   "cell_type": "markdown",
   "id": "bbe45234",
   "metadata": {},
   "source": [
    "### Datos cargados y metadatos de las estaciones\n",
    "En la sección inferior se muestran los paneles deplegables con información de los datos cargados al sistema mediante el archivo `.csv` de alturas hidrométricas y del archivo `meta_estaciones_sah.csv`. Esto suele ser de utilidad para coroborar que los datos se han interpretados de la forma correcta. En la @fig-datos-cargados se muestra su contenido.\n",
    "\n",
    "\n",
    "![Datos cargados al sistema](img/img6.png){#fig-datos-cargados}  "
   ]
  },
  {
   "cell_type": "markdown",
   "id": "b9c8e4a6",
   "metadata": {},
   "source": [
    "## Cotas IGN\n",
    "\n",
    "El sistema realiza todos los cálculos utilizando la altura hidrométrica (h) recibida por las estaciones. A estos valores les suma la cota IGN correspondiente al cero de cada estación para su visualización en las series temporales y pronósticos. A los fines visuales pueden ser modificados los ceros de cada estación mediante el panel lateral izquierdo (ver @fig-cotas). Si bien esta acción actualizará automáticamente los gráficos y las tablas de pronósticos es importante tener en cuenta que sus valores volverán al valor prefijado al inciar el programa nuevamente. \n",
    "\n",
    "![Panel con cotas IGN de cada estación](img/panel_cotas.png){#fig-cotas}\n",
    "\n"
   ]
  },
  {
   "cell_type": "markdown",
   "id": "8fd7bd39",
   "metadata": {},
   "source": []
  },
  {
   "cell_type": "markdown",
   "id": "3b4c76c1",
   "metadata": {},
   "source": [
    "\n",
    "## Acerca de PySalado\n",
    "PySalado v1.0 fue desarrollado utilizando Python v3.8.5 con dependencias de las biblotecas Numpy 1.21.1, Pandas 1.3.3, Plotly 5.3.1 y Streamlit 1.0.0. \n",
    "Este software fue desarrollado por Mg. Ing. Emiliano López (<emiliano.lopez@gmail.com>) en base a los requerimientos solicitados aunque no limitado a ello. Los datos sobre este software se encuentran en el panel lateral previamente mencionado. \n",
    "\n",
    "\n",
    "## Mejoras y recomendaciones a futuro\n",
    "El software desarrollado PySalado presenta una interfaz interactiva que cumple los requisitos solicitados, la información presentada sobre el mapa satelital -no requerida- fue incorporada como muestra de la potencialidad de un sistema de estas características. \n",
    "\n",
    "Un sistema interactivo como el desarrollado podría ser ampliado o bien formar parte de otro de mayor calibre. A continuación se presenta una serie de funcionalidades sugeridas para incoporar a futuro:\n",
    "\n",
    "- Visualización de los niveles de alerta y evacuación de cada estación\n",
    "- Mensajes informativos cuando la altura hidrométrica se encuentra cercano a los niveles de alerta/evacuación de cada estación \n",
    "- Incoporar otras variables de interés para conocer el estado de la cuenca (Precipitación, profundidad de la napa freática, etc)\n",
    "- Colores que indiquen sobre el mapa si las estaciones se encuentran activas/inactivas\n",
    "- Escala de colores en cada estación en función de la altura hidrométrica\n",
    "- Visualización de subcuencas en el mapa satelital\n",
    "- Colores de cada subcuenca en función de parámetros/índices preestablecidos de vulnerabilidad"
   ]
  },
  {
   "cell_type": "markdown",
   "id": "4aef5db8",
   "metadata": {},
   "source": []
  }
 ],
 "metadata": {
  "kernelspec": {
   "display_name": "Python 3 (ipykernel)",
   "language": "python",
   "name": "python3"
  },
  "language_info": {
   "codemirror_mode": {
    "name": "ipython",
    "version": 3
   },
   "file_extension": ".py",
   "mimetype": "text/x-python",
   "name": "python",
   "nbconvert_exporter": "python",
   "pygments_lexer": "ipython3",
   "version": "3.8.5"
  }
 },
 "nbformat": 4,
 "nbformat_minor": 5
}
