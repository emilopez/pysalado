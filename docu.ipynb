{
 "cells": [
  {
   "cell_type": "raw",
   "id": "1e00c4da-1ec9-4402-a28b-6ad4b241b3a8",
   "metadata": {},
   "source": [
    "---\n",
    "title: \"Visualizador interactivo\"\n",
    "format: \n",
    "  html:\n",
    "    code-fold: false\n",
    "jupyter: python3\n",
    "---"
   ]
  },
  {
   "cell_type": "markdown",
   "id": "20050c52-3273-4005-b615-882de2d1ad43",
   "metadata": {},
   "source": [
    "## Introducción\n",
    "\n",
    "El visualizador permite observar las alturas registradas por las estaciones del Sistema de Alerta Hidrológico del Río Salado y pronosticar su altura para los sitios de las estaciones de la Ruta Provincial 70 (RP70) y la Ruta Provincial 62 (RP62). El pronóstico de la RP70 es de hasta 3 días y el de la RP62 de hasta 2 días. El sistema desarrollado permite analizar interactivamente la fluctiación temporal y a su vez observar los últimos valores de cada estación sobre un mapa satelital. En la @fig-vizcompleto se muestra una el visualizador interactivo en funcionamiento.\n",
    "\n",
    "![Visualizador del SAH del Río Salado](img/viz3.png){#fig-vizcompleto}\n",
    "\n",
    "El software se nutre de dos archivos `.csv` (comma separated values). Uno de ellos estático, en el que no se realizan modificaciones por parte del usuario, y otro dinámico, donde se cargan las alturas de las estaciones para cada fecha. \n",
    "\n",
    "- `meta_estaciones_sah.csv`: en un archivo denominado `meta_estaciones_sah.csv` se encuentran las coordenadas (latitud, longitud) de las estaciones de la red de alerta del Río Salado. Este archivo no se modifica ni se selecciona en ninguna instancia. Simplemente lo utiliza el sofware para ubicaar los puntos sobre el mapa.\n",
    "\n",
    "- `archivo_con_alturas.csv`: en un archivo `csv` (sin importar el nombre de archivo)  se ingresan las alturas de cada estación. Cada fila es para una fecha determinada y las columnas se corresponden con las diferentes estaciones.   \n",
    "\n",
    "```{mermaid}\n",
    "flowchart LR\n",
    "  A[altura_estaciones.csv] --> C(visualizador)\n",
    "  B[meta_estaciones_sah.csv] --> C(visualizador)\n",
    "  C(visualizador) --> D[<img src='img/viz1.png' width='340' height='240' />]\n",
    "  \n",
    "```"
   ]
  },
  {
   "cell_type": "markdown",
   "id": "8776c2d1-722b-4e14-8b78-4b3f50f45bd4",
   "metadata": {},
   "source": [
    "## Instalación y requerimientos\n",
    "acá tengo que ver cómo se instalaría en windows.\n",
    "\n",
    "## Formato de archivos .csv\n",
    "Primero explicar donde se deben cargar los datos por el operador y el formato CSV. Qué cuidados deben tenerse con el nombre de las columnas. \n",
    "\n",
    "## Modo de uso\n",
    "acá voy a explicar con capturas cómo funciona y qué es cada parte del sistema\n",
    "\n",
    "## Recomendaciones\n",
    "acá explicar cómo se podría ampliar y mejorar o bien crear una nueva interfaz"
   ]
  },
  {
   "cell_type": "code",
   "execution_count": null,
   "id": "f5f076eb-19d5-4857-a5c8-a6fa928f92fe",
   "metadata": {},
   "outputs": [],
   "source": []
  }
 ],
 "metadata": {
  "kernelspec": {
   "display_name": "Python 3 (ipykernel)",
   "language": "python",
   "name": "python3"
  },
  "language_info": {
   "codemirror_mode": {
    "name": "ipython",
    "version": 3
   },
   "file_extension": ".py",
   "mimetype": "text/x-python",
   "name": "python",
   "nbconvert_exporter": "python",
   "pygments_lexer": "ipython3",
   "version": "3.8.5"
  }
 },
 "nbformat": 4,
 "nbformat_minor": 5
}
